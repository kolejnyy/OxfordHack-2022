{
 "cells": [
  {
   "cell_type": "markdown",
   "id": "746635c2",
   "metadata": {},
   "source": [
    "# Data preparation"
   ]
  },
  {
   "cell_type": "code",
   "execution_count": 1,
   "id": "a51502ea",
   "metadata": {},
   "outputs": [],
   "source": [
    "import numpy as np\n",
    "import pandas as pd\n",
    "\n",
    "import math\n",
    "from time import time\n",
    "from copy import deepcopy, copy"
   ]
  },
  {
   "cell_type": "code",
   "execution_count": 2,
   "id": "e8f376b2",
   "metadata": {},
   "outputs": [],
   "source": [
    "folder_path = \"databases/avocado/\"\n",
    "path = folder_path+\"avocado.csv\"\n",
    "document = pd.read_csv(path)"
   ]
  },
  {
   "cell_type": "code",
   "execution_count": 3,
   "id": "aa4b128b",
   "metadata": {},
   "outputs": [
    {
     "data": {
      "text/plain": [
       "array([['2015-01-04', 'Southeast', 'organic', 1.75],\n",
       "       ['2015-01-04', 'Chicago', 'organic', 1.49],\n",
       "       ['2015-01-04', 'HarrisburgScranton', 'organic', 1.68],\n",
       "       ...,\n",
       "       ['2018-03-25', 'SouthCentral', 'organic', 1.42],\n",
       "       ['2018-03-25', 'California', 'organic', 1.7],\n",
       "       ['2018-03-25', 'NewYork', 'conventional', 1.34]], dtype=object)"
      ]
     },
     "execution_count": 3,
     "metadata": {},
     "output_type": "execute_result"
    }
   ],
   "source": [
    "doc  = document[[\"Date\", \"region\", \"type\", \"AveragePrice\"]].sort_values(by=\"Date\")\n",
    "data = doc.to_numpy()\n",
    "np.save(folder_path+\"raw_avocado.npy\", data, allow_pickle=True)\n",
    "data"
   ]
  },
  {
   "cell_type": "code",
   "execution_count": 4,
   "id": "4445f732",
   "metadata": {},
   "outputs": [],
   "source": [
    "dates, dates_count = np.unique(data[:,0], return_counts=True)\n",
    "state, state_count = np.unique(data[:,1], return_counts=True)\n",
    "types, types_count = np.unique(data[:,2], return_counts=True)"
   ]
  },
  {
   "cell_type": "code",
   "execution_count": 5,
   "id": "bb7b410e",
   "metadata": {
    "scrolled": true
   },
   "outputs": [
    {
     "data": {
      "text/plain": [
       "array([[[-2137., -2137.],\n",
       "        [-2137., -2137.],\n",
       "        [-2137., -2137.],\n",
       "        ...,\n",
       "        [-2137., -2137.],\n",
       "        [-2137., -2137.],\n",
       "        [-2137., -2137.]],\n",
       "\n",
       "       [[-2137., -2137.],\n",
       "        [-2137., -2137.],\n",
       "        [-2137., -2137.],\n",
       "        ...,\n",
       "        [-2137., -2137.],\n",
       "        [-2137., -2137.],\n",
       "        [-2137., -2137.]],\n",
       "\n",
       "       [[-2137., -2137.],\n",
       "        [-2137., -2137.],\n",
       "        [-2137., -2137.],\n",
       "        ...,\n",
       "        [-2137., -2137.],\n",
       "        [-2137., -2137.],\n",
       "        [-2137., -2137.]],\n",
       "\n",
       "       ...,\n",
       "\n",
       "       [[-2137., -2137.],\n",
       "        [-2137., -2137.],\n",
       "        [-2137., -2137.],\n",
       "        ...,\n",
       "        [-2137., -2137.],\n",
       "        [-2137., -2137.],\n",
       "        [-2137., -2137.]],\n",
       "\n",
       "       [[-2137., -2137.],\n",
       "        [-2137., -2137.],\n",
       "        [-2137., -2137.],\n",
       "        ...,\n",
       "        [-2137., -2137.],\n",
       "        [-2137., -2137.],\n",
       "        [-2137., -2137.]],\n",
       "\n",
       "       [[-2137., -2137.],\n",
       "        [-2137., -2137.],\n",
       "        [-2137., -2137.],\n",
       "        ...,\n",
       "        [-2137., -2137.],\n",
       "        [-2137., -2137.],\n",
       "        [-2137., -2137.]]])"
      ]
     },
     "execution_count": 5,
     "metadata": {},
     "output_type": "execute_result"
    }
   ],
   "source": [
    "result = np.zeros((dates.shape[0],state.shape[0],types.shape[0]))-2137\n",
    "result"
   ]
  },
  {
   "cell_type": "code",
   "execution_count": 6,
   "id": "0c9cfeee",
   "metadata": {},
   "outputs": [],
   "source": [
    "for [date, city, typ, price] in data:\n",
    "    date_id = np.where(dates==date)[0][0]\n",
    "    city_id = np.where(state==city)[0][0]\n",
    "    type_id = np.where(types==typ)[0][0]\n",
    "    result[date_id][city_id][type_id] = price"
   ]
  },
  {
   "cell_type": "code",
   "execution_count": 9,
   "id": "4feaf7b6",
   "metadata": {},
   "outputs": [
    {
     "name": "stdout",
     "output_type": "stream",
     "text": [
      "(array([ 48, 128, 129], dtype=int64), array([53, 53, 53], dtype=int64), array([1, 1, 1], dtype=int64))\n"
     ]
    },
    {
     "data": {
      "text/plain": [
       "(array([ 48, 128, 129], dtype=int64),\n",
       " array([53, 53, 53], dtype=int64),\n",
       " array([1, 1, 1], dtype=int64))"
      ]
     },
     "execution_count": 9,
     "metadata": {},
     "output_type": "execute_result"
    }
   ],
   "source": [
    "print(np.where(result<=0))\n",
    "np.save(folder_path+\"avocado_arr.npy\", result)\n",
    "np.where(np.load(folder_path+\"avocado_arr.npy\")<0)"
   ]
  },
  {
   "cell_type": "code",
   "execution_count": 12,
   "id": "dac5d5aa",
   "metadata": {},
   "outputs": [],
   "source": [
    "np.save(folder_path+\"avocado_dates.npy\", dates)\n",
    "np.save(folder_path+\"avocado_regions.npy\", state)\n",
    "np.save(folder_path+\"avocado_types.npy\", types)\n",
    "np.save(folder_path+\"avocado_columns\", np.array([\"Date\", \"Region\", \"Type\", \"Price\"]))"
   ]
  }
 ],
 "metadata": {
  "kernelspec": {
   "display_name": "Python 3 (ipykernel)",
   "language": "python",
   "name": "python3"
  },
  "language_info": {
   "codemirror_mode": {
    "name": "ipython",
    "version": 3
   },
   "file_extension": ".py",
   "mimetype": "text/x-python",
   "name": "python",
   "nbconvert_exporter": "python",
   "pygments_lexer": "ipython3",
   "version": "3.7.9"
  }
 },
 "nbformat": 4,
 "nbformat_minor": 5
}
