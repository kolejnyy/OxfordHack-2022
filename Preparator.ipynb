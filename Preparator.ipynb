{
 "cells": [
  {
   "cell_type": "markdown",
   "id": "746635c2",
   "metadata": {},
   "source": [
    "# Data preparation"
   ]
  },
  {
   "cell_type": "code",
   "execution_count": 47,
   "id": "a51502ea",
   "metadata": {},
   "outputs": [],
   "source": [
    "import numpy as np\n",
    "import pandas as pd\n",
    "\n",
    "import math\n",
    "from time import time\n",
    "from copy import deepcopy, copy"
   ]
  },
  {
   "cell_type": "code",
   "execution_count": 48,
   "id": "e8f376b2",
   "metadata": {},
   "outputs": [],
   "source": [
    "folder_path = \"datasets/water/\"\n",
    "name = \"water\"\n",
    "path = folder_path + name + \".csv\"\n",
    "document = pd.read_csv(path)\n",
    "priority = \"Potability\"\n",
    "categories = [\"ph\", \"Hardness\", \"Conductivity\", \"Potability\"]\n",
    "#ph,Hardness,Solids,Chloramines,Sulfate,Conductivity\n",
    "indices = [0, 1, 5, 9] # label is last"
   ]
  },
  {
   "cell_type": "code",
   "execution_count": 52,
   "id": "aa4b128b",
   "metadata": {},
   "outputs": [
    {
     "name": "stdout",
     "output_type": "stream",
     "text": [
      "(3276, 4)\n"
     ]
    },
    {
     "data": {
      "text/plain": [
       "array([[         nan, 204.89045547, 564.30865417,   0.        ],\n",
       "       [  3.71608008, 129.42292051, 592.88535913,   0.        ],\n",
       "       [  8.09912419, 224.23625939, 418.60621306,   0.        ],\n",
       "       ...,\n",
       "       [  9.41951032, 175.7626463 , 432.04478305,   1.        ],\n",
       "       [  5.12676292, 230.60375751, 402.88311312,   1.        ],\n",
       "       [  7.87467136, 195.10229859, 327.45976046,   1.        ]])"
      ]
     },
     "execution_count": 52,
     "metadata": {},
     "output_type": "execute_result"
    }
   ],
   "source": [
    "doc  = document[categories]\n",
    "data = doc.to_numpy()\n",
    "print(data.shape)\n",
    "np.save(folder_path+\"raw_\" + name + \".npy\", data, allow_pickle=True)\n",
    "np.save(folder_path+ name + \"_categories.npy\", categories, allow_pickle=True)\n",
    "data"
   ]
  },
  {
   "cell_type": "code",
   "execution_count": 50,
   "id": "bb7b410e",
   "metadata": {
    "scrolled": true
   },
   "outputs": [],
   "source": [
    "idx = []\n",
    "for i in range(len(data)):\n",
    "    b = True\n",
    "    for x in data[i]:\n",
    "        if math.isnan(x) or x == 'nan':\n",
    "            b = False\n",
    "    if b:\n",
    "        idx.append(i)"
   ]
  },
  {
   "cell_type": "code",
   "execution_count": 51,
   "id": "0c9cfeee",
   "metadata": {},
   "outputs": [
    {
     "name": "stdout",
     "output_type": "stream",
     "text": [
      "[[  3.71608008 129.42292051 592.88535913   0.        ]\n",
      " [  8.09912419 224.23625939 418.60621306   0.        ]\n",
      " [  8.31676588 214.37339409 363.26651616   0.        ]\n",
      " ...\n",
      " [  9.41951032 175.7626463  432.04478305   1.        ]\n",
      " [  5.12676292 230.60375751 402.88311312   1.        ]\n",
      " [  7.87467136 195.10229859 327.45976046   1.        ]]\n"
     ]
    }
   ],
   "source": [
    "final_data = data[idx]\n",
    "print(final_data)\n",
    "np.save(folder_path + name + \".npy\", final_data, allow_pickle=True)"
   ]
  }
 ],
 "metadata": {
  "kernelspec": {
   "display_name": "Python 3 (ipykernel)",
   "language": "python",
   "name": "python3"
  },
  "language_info": {
   "codemirror_mode": {
    "name": "ipython",
    "version": 3
   },
   "file_extension": ".py",
   "mimetype": "text/x-python",
   "name": "python",
   "nbconvert_exporter": "python",
   "pygments_lexer": "ipython3",
   "version": "3.8.10"
  }
 },
 "nbformat": 4,
 "nbformat_minor": 5
}
