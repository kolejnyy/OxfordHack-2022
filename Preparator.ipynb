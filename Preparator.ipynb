{
 "cells": [
  {
   "cell_type": "markdown",
   "id": "746635c2",
   "metadata": {},
   "source": [
    "# Data preparation"
   ]
  },
  {
   "cell_type": "code",
   "execution_count": 70,
   "id": "a51502ea",
   "metadata": {},
   "outputs": [],
   "source": [
    "import numpy as np\n",
    "import pandas as pd\n",
    "\n",
    "import math\n",
    "from time import time\n",
    "from copy import deepcopy, copy"
   ]
  },
  {
   "cell_type": "code",
   "execution_count": 71,
   "id": "e8f376b2",
   "metadata": {},
   "outputs": [
    {
     "name": "stdout",
     "output_type": "stream",
     "text": [
      "datasets/nba/nba.csv\n",
      "      Rk             Player Pos  Age   Tm   G  GS    MP   FG   FGA  ...  \\\n",
      "0      1   Precious Achiuwa   C   22  TOR  48  23  23.1  3.1   7.3  ...   \n",
      "1      2       Steven Adams   C   28  MEM  56  55  26.1  2.8   5.0  ...   \n",
      "2      3        Bam Adebayo   C   24  MIA  33  33  33.0  7.2  13.6  ...   \n",
      "3      4       Santi Aldama  PF   21  MEM  27   0  10.3  1.4   3.6  ...   \n",
      "4      5  LaMarcus Aldridge   C   36  BRK  38  11  22.8  5.8  10.5  ...   \n",
      "..   ...                ...  ..  ...  ...  ..  ..   ...  ...   ...  ...   \n",
      "729  588     Thaddeus Young  PF   33  TOR   2   0  16.5  3.5   7.0  ...   \n",
      "730  589         Trae Young  PG   23  ATL  53  53  34.4  9.3  20.5  ...   \n",
      "731  590     Omer Yurtseven   C   23  MIA  41  10  14.1  2.6   4.9  ...   \n",
      "732  591        Cody Zeller   C   29  POR  27   0  13.1  1.9   3.3  ...   \n",
      "733  592        Ivica Zubac   C   24  LAC  54  54  24.3  3.7   5.7  ...   \n",
      "\n",
      "       FT%  ORB  DRB   TRB  AST  STL  BLK  TOV   PF   PTS  \n",
      "0    0.579  2.2  4.7   6.9  1.1  0.5  0.6  1.0  2.0   7.5  \n",
      "1    0.556  4.5  5.1   9.6  3.2  0.9  0.7  1.6  1.9   7.0  \n",
      "2    0.764  2.8  7.4  10.2  3.5  1.5  0.6  2.9  3.2  18.7  \n",
      "3    0.600  0.9  1.5   2.4  0.5  0.1  0.3  0.3  1.0   3.3  \n",
      "4    0.844  1.6  4.2   5.8  0.8  0.3  1.1  1.0  1.7  13.7  \n",
      "..     ...  ...  ...   ...  ...  ...  ...  ...  ...   ...  \n",
      "729  0.000  2.0  2.5   4.5  1.0  1.0  0.5  1.5  1.5   7.0  \n",
      "730  0.898  0.6  3.2   3.9  9.3  1.0  0.1  4.1  1.6  27.8  \n",
      "731  0.630  1.7  4.2   6.0  1.0  0.4  0.4  0.9  1.7   6.1  \n",
      "732  0.776  1.9  2.8   4.6  0.8  0.3  0.2  0.7  2.1   5.2  \n",
      "733  0.716  2.6  5.4   8.0  1.4  0.4  1.0  1.4  2.5   9.6  \n",
      "\n",
      "[734 rows x 30 columns]\n"
     ]
    }
   ],
   "source": [
    "\n",
    "folder_path = \"datasets/nba/\"\n",
    "name = \"nba\"\n",
    "path = folder_path + name + \".csv\"\n",
    "print(path)\n",
    "document = pd.read_csv(path,encoding=\"Windows-1252\", delimiter=\";\")\n",
    "\n",
    "priority = \"FG\"\n",
    "categories = [\"Player\", \"Tm\", \"MP\", \"FG\"]\n",
    "#ph,Hardness,Solids,Chloramines,Sulfate,Conductivity\n",
    "indices = [1, 4, 7, 8] # label is last\n",
    "print(document)\n"
   ]
  },
  {
   "cell_type": "code",
   "execution_count": 72,
   "id": "aa4b128b",
   "metadata": {},
   "outputs": [
    {
     "name": "stdout",
     "output_type": "stream",
     "text": [
      "(734, 4)\n"
     ]
    },
    {
     "data": {
      "text/plain": [
       "array([['Precious Achiuwa', 'TOR', 23.1, 3.1],\n",
       "       ['Steven Adams', 'MEM', 26.1, 2.8],\n",
       "       ['Bam Adebayo', 'MIA', 33.0, 7.2],\n",
       "       ...,\n",
       "       ['Omer Yurtseven', 'MIA', 14.1, 2.6],\n",
       "       ['Cody Zeller', 'POR', 13.1, 1.9],\n",
       "       ['Ivica Zubac', 'LAC', 24.3, 3.7]], dtype=object)"
      ]
     },
     "execution_count": 72,
     "metadata": {},
     "output_type": "execute_result"
    }
   ],
   "source": [
    "doc  = document[categories]\n",
    "data = doc.to_numpy()\n",
    "print(data.shape)\n",
    "np.save(folder_path+\"raw_\" + name + \".npy\", data, allow_pickle=True)\n",
    "np.save(folder_path+ name + \"_categories.npy\", categories, allow_pickle=True)\n",
    "data"
   ]
  },
  {
   "cell_type": "code",
   "execution_count": 74,
   "id": "bb7b410e",
   "metadata": {
    "scrolled": true
   },
   "outputs": [],
   "source": [
    "idx = []\n",
    "for i in range(len(data)):\n",
    "    b = True\n",
    "    for x in data[i]:\n",
    "        if isinstance(x, float) and math.isnan(x):\n",
    "            b = False\n",
    "    if b:\n",
    "        idx.append(i)"
   ]
  },
  {
   "cell_type": "code",
   "execution_count": 75,
   "id": "0c9cfeee",
   "metadata": {},
   "outputs": [
    {
     "name": "stdout",
     "output_type": "stream",
     "text": [
      "[['Precious Achiuwa' 'TOR' 23.1 3.1]\n",
      " ['Steven Adams' 'MEM' 26.1 2.8]\n",
      " ['Bam Adebayo' 'MIA' 33.0 7.2]\n",
      " ...\n",
      " ['Omer Yurtseven' 'MIA' 14.1 2.6]\n",
      " ['Cody Zeller' 'POR' 13.1 1.9]\n",
      " ['Ivica Zubac' 'LAC' 24.3 3.7]]\n"
     ]
    }
   ],
   "source": [
    "final_data = data[idx]\n",
    "print(final_data)\n",
    "np.save(folder_path + name + \".npy\", final_data, allow_pickle=True)"
   ]
  }
 ],
 "metadata": {
  "kernelspec": {
   "display_name": "Python 3 (ipykernel)",
   "language": "python",
   "name": "python3"
  },
  "language_info": {
   "codemirror_mode": {
    "name": "ipython",
    "version": 3
   },
   "file_extension": ".py",
   "mimetype": "text/x-python",
   "name": "python",
   "nbconvert_exporter": "python",
   "pygments_lexer": "ipython3",
   "version": "3.8.10"
  }
 },
 "nbformat": 4,
 "nbformat_minor": 5
}
